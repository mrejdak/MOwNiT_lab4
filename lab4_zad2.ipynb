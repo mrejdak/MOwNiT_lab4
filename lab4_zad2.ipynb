{
 "cells": [
  {
   "metadata": {
    "ExecuteTime": {
     "end_time": "2025-04-12T23:56:52.642985Z",
     "start_time": "2025-04-12T23:56:52.203034Z"
    }
   },
   "cell_type": "code",
   "source": [
    "import numpy as np\n",
    "import random as rn\n",
    "import matplotlib.pyplot as plt\n",
    "from PIL import Image"
   ],
   "id": "71ac235cad5b0f81",
   "outputs": [],
   "execution_count": 1
  },
  {
   "metadata": {
    "ExecuteTime": {
     "end_time": "2025-04-12T23:56:52.655621Z",
     "start_time": "2025-04-12T23:56:52.651756Z"
    }
   },
   "cell_type": "code",
   "source": [
    "def probability_of_acceptance(T, c_v, n_v):\n",
    "    return np.exp(-abs(n_v - c_v)/T)"
   ],
   "id": "351c3ddbf5dba560",
   "outputs": [],
   "execution_count": 2
  },
  {
   "metadata": {},
   "cell_type": "markdown",
   "source": [
    "### Zapisywanie GIF-ów\n",
    "Drobna modyfikacja funkcji w celu możliwości zapisywania gifów oraz optymalizacji obliczania energii"
   ],
   "id": "e2d582dc56a66b6d"
  },
  {
   "metadata": {
    "ExecuteTime": {
     "end_time": "2025-04-12T23:56:52.775072Z",
     "start_time": "2025-04-12T23:56:52.770594Z"
    }
   },
   "cell_type": "code",
   "source": [
    "def optimized_sim_annealing(s, max_iters, T, alfa, swap_and_update_loss_func, swap_func, change_temp_func,\n",
    "                            loss_func, initial_loss_func, probability_of_acceptance_func=probability_of_acceptance, save=False, filename=None, duration=40):\n",
    "    best = float('inf')\n",
    "    best_result = None\n",
    "    vals = []\n",
    "    curr_val = initial_loss_func(s, loss_func)\n",
    "    step = max_iters//200\n",
    "    frames = []\n",
    "    if save and filename is None:\n",
    "        print(\"To save, choose a filename\")\n",
    "        return None, None, None\n",
    "\n",
    "    for k in range(max_iters):\n",
    "        T = change_temp_func(T, alfa, k)\n",
    "\n",
    "        vals.append(curr_val)\n",
    "\n",
    "        new_s, new_val = swap_and_update_loss_func(s, curr_val, swap_func, loss_func)\n",
    "        \n",
    "        if save and k % step == 0:\n",
    "            array = (1 - s) * 255  # Zamieniamy: 0 -> 255 (biały), 1 -> 0 (czarny)\n",
    "            img = Image.fromarray(array.astype(np.uint8), mode='L')  # L = grayscale\n",
    "            img = img.resize((500, 500), resample=Image.NEAREST)\n",
    "            frames.append(img)\n",
    "\n",
    "        if new_val < curr_val or rn.uniform(0, 1) <= probability_of_acceptance_func(T, curr_val, new_val):\n",
    "            s = new_s\n",
    "            curr_val = new_val\n",
    "            if new_val < best:\n",
    "                best = new_val\n",
    "                best_result = new_s.copy()\n",
    "    if frames:\n",
    "        frames[0].save(\n",
    "            filename,\n",
    "            save_all=True,\n",
    "            append_images=frames[1:],\n",
    "            duration=duration,\n",
    "            loop=0,\n",
    "            optimize=False\n",
    "        )\n",
    "    return best, vals, best_result\n"
   ],
   "id": "539095279cfefa2b",
   "outputs": [],
   "execution_count": 3
  },
  {
   "metadata": {
    "ExecuteTime": {
     "end_time": "2025-04-12T23:56:52.785906Z",
     "start_time": "2025-04-12T23:56:52.781804Z"
    }
   },
   "cell_type": "code",
   "source": [
    "def generate_image(n, delta):\n",
    "    image = np.random.binomial(1, delta, size=(n, n))\n",
    "    return image"
   ],
   "id": "fb29499aa1ed3f5a",
   "outputs": [],
   "execution_count": 4
  },
  {
   "metadata": {},
   "cell_type": "markdown",
   "source": "Funkcje pomocnicze",
   "id": "5705b2830b6c2414"
  },
  {
   "metadata": {
    "ExecuteTime": {
     "end_time": "2025-04-12T23:56:52.795352Z",
     "start_time": "2025-04-12T23:56:52.791821Z"
    }
   },
   "cell_type": "code",
   "source": [
    "def calculate_all_energy(image, energy_function):\n",
    "    energy = 0\n",
    "    for x in range(len(image)):\n",
    "        for y in range(len(image)):\n",
    "            energy += energy_function(image, x, y)\n",
    "    return energy\n"
   ],
   "id": "168f6fb0193b25c3",
   "outputs": [],
   "execution_count": 5
  },
  {
   "metadata": {
    "ExecuteTime": {
     "end_time": "2025-04-12T23:56:52.805946Z",
     "start_time": "2025-04-12T23:56:52.802365Z"
    }
   },
   "cell_type": "code",
   "source": [
    "def img_swap_and_update_energy(image, energy, swap_function, energy_function):\n",
    "    new_image = image.copy()\n",
    "    old_pts, new_pts = swap_function(image)\n",
    "\n",
    "    for i in range(len(old_pts)):\n",
    "        x1, y1 = old_pts[i]\n",
    "        x2, y2 = new_pts[i]\n",
    "        val1 = new_image[x1, y1].copy()\n",
    "        val2 = new_image[x2, y2].copy()\n",
    "        if val1 == val2:\n",
    "            continue\n",
    "        energy -= 2 * energy_function(image, x1, y1)\n",
    "        energy -= 2 * energy_function(image, x2, y2)\n",
    "        new_image[x1, y1] = val2\n",
    "        new_image[x2, y2] = val1\n",
    "    return new_image, energy\n"
   ],
   "id": "4ecc7c6fa911719c",
   "outputs": [],
   "execution_count": 6
  },
  {
   "metadata": {},
   "cell_type": "markdown",
   "source": "Funkcje zamieniające piksele",
   "id": "f946aa49412049b1"
  },
  {
   "metadata": {
    "ExecuteTime": {
     "end_time": "2025-04-12T23:56:52.816142Z",
     "start_time": "2025-04-12T23:56:52.812238Z"
    }
   },
   "cell_type": "code",
   "source": [
    "def img_swap_random(image):\n",
    "    new_pts = []\n",
    "    old_pts = []\n",
    "    for _ in range(4):\n",
    "        p1 = np.random.randint(0, len(image) - 1, size=2)\n",
    "        p2 = np.random.randint(0, len(image) - 1, size=2)\n",
    "        new_pts.append(p1)\n",
    "        old_pts.append(p2)\n",
    "    return old_pts, new_pts"
   ],
   "id": "895a78760c90cc39",
   "outputs": [],
   "execution_count": 7
  },
  {
   "metadata": {
    "ExecuteTime": {
     "end_time": "2025-04-12T23:56:52.825343Z",
     "start_time": "2025-04-12T23:56:52.822076Z"
    }
   },
   "cell_type": "code",
   "source": [
    "def img_swap_adjacent(image):\n",
    "    new_pts = []\n",
    "    old_pts = []\n",
    "    for _ in range(4):\n",
    "        p1 = np.random.randint(1, len(image) - 2, size=2)\n",
    "        move = np.random.randint(-1, 1, size=2)\n",
    "        p2 = [p1[0] + move[0], p1[1] + move[1]]\n",
    "        new_pts.append(p1)\n",
    "        old_pts.append(p2)\n",
    "    return old_pts, new_pts"
   ],
   "id": "10595aab6f3b30c9",
   "outputs": [],
   "execution_count": 8
  },
  {
   "metadata": {},
   "cell_type": "markdown",
   "source": "Różne funkcje obliczania energii",
   "id": "4ca0ccb37c929142"
  },
  {
   "metadata": {
    "ExecuteTime": {
     "end_time": "2025-04-12T23:56:52.847066Z",
     "start_time": "2025-04-12T23:56:52.842751Z"
    }
   },
   "cell_type": "code",
   "source": [
    "def ising(image, x, y, adjacent):\n",
    "    energy = 0\n",
    "    for m_x, m_y in adjacent:\n",
    "        if 0 < x + m_x < len(image) and 0 < y + m_y < len(image):\n",
    "            energy += -1 if image[x + m_x, y + m_y] == image[x, y] else 1\n",
    "    return energy"
   ],
   "id": "6f291d3ea7bfb99d",
   "outputs": [],
   "execution_count": 10
  },
  {
   "metadata": {
    "ExecuteTime": {
     "end_time": "2025-04-12T23:56:52.857163Z",
     "start_time": "2025-04-12T23:56:52.853557Z"
    }
   },
   "cell_type": "code",
   "source": [
    "def energy_ising_8(image, x, y):\n",
    "    adjacent = [(1, 1), (1, 0), (1, -1), (0, -1), (-1, -1), (-1, 0), (-1, 1), (0, 1)]\n",
    "    return ising(image, x, y, adjacent)\n"
   ],
   "id": "84e6ea7f976ae522",
   "outputs": [],
   "execution_count": 11
  },
  {
   "metadata": {
    "ExecuteTime": {
     "end_time": "2025-04-12T23:56:52.866718Z",
     "start_time": "2025-04-12T23:56:52.863188Z"
    }
   },
   "cell_type": "code",
   "source": [
    "def energy_ising_16(image, x, y):\n",
    "    adjacent = [(-2, 2), (-1, 2), (0, 2), (1, 2), (2, 2), (-2, -2), (-1, -2), (0, -2), (1, -2), (2, -2), (-2, -1),\n",
    "                (-2, 0), (-2, 1), (2, -1), (2, 0), (2, 1)]\n",
    "    return ising(image, x, y, adjacent)"
   ],
   "id": "d63b0d1b3e495ad6",
   "outputs": [],
   "execution_count": 12
  },
  {
   "metadata": {
    "ExecuteTime": {
     "end_time": "2025-04-12T23:56:52.876101Z",
     "start_time": "2025-04-12T23:56:52.873023Z"
    }
   },
   "cell_type": "code",
   "source": [
    "def energy_push_and_pull(image, x, y):\n",
    "    energy = -energy_ising_8(image, x, y)\n",
    "    energy += energy_ising_16(image, x, y)\n",
    "    return energy"
   ],
   "id": "c800b19770cc25d0",
   "outputs": [],
   "execution_count": 13
  },
  {
   "metadata": {
    "ExecuteTime": {
     "end_time": "2025-04-13T00:38:07.627179Z",
     "start_time": "2025-04-13T00:38:07.623688Z"
    }
   },
   "cell_type": "code",
   "source": [
    "def energy_horiz(image,x,y):\n",
    "    vertical = [(0, i) for i in range(-2, 3)]\n",
    "    horizontal = [(i, 0) for i in range(-2, 3)]\n",
    "    energy = -ising(image, x, y, horizontal)\n",
    "    energy += ising(image, x, y, vertical)\n",
    "    return energy"
   ],
   "id": "1b83a2992776ab7c",
   "outputs": [],
   "execution_count": 48
  },
  {
   "metadata": {
    "ExecuteTime": {
     "end_time": "2025-04-13T00:38:08.129394Z",
     "start_time": "2025-04-13T00:38:08.124925Z"
    }
   },
   "cell_type": "code",
   "source": [
    "def energy_cross(image,x,y):\n",
    "    cross = [(i,i) for i in range(-5, 6)] + [(i,-i) for i in range(-5, 6)]\n",
    "    return ising(image, x, y, cross)"
   ],
   "id": "d76562bf4db2753c",
   "outputs": [],
   "execution_count": 49
  },
  {
   "metadata": {
    "ExecuteTime": {
     "end_time": "2025-04-13T00:39:36.964514Z",
     "start_time": "2025-04-13T00:39:36.961464Z"
    }
   },
   "cell_type": "code",
   "source": [
    "def energy_vert_horiz(image,x,y):\n",
    "    vertical = [(0, i) for i in range(-3, 4)]\n",
    "    horizontal = [(i, 0) for i in range(-3, 4)]\n",
    "    energy = ising(image, x, y, horizontal)\n",
    "    energy += ising(image, x, y, vertical)\n",
    "    return energy"
   ],
   "id": "fb123454f0ac9276",
   "outputs": [],
   "execution_count": 53
  },
  {
   "metadata": {
    "ExecuteTime": {
     "end_time": "2025-04-13T01:10:55.689568Z",
     "start_time": "2025-04-13T01:10:55.685468Z"
    }
   },
   "cell_type": "code",
   "source": [
    "def energy_diag(image,x,y):\n",
    "    diag = [(i,i) for i in range(-5, 6)]\n",
    "    return ising(image, x, y, diag)"
   ],
   "id": "55c1825327e0c9e7",
   "outputs": [],
   "execution_count": 85
  },
  {
   "metadata": {
    "ExecuteTime": {
     "end_time": "2025-04-13T01:20:23.136881Z",
     "start_time": "2025-04-13T01:20:23.132279Z"
    }
   },
   "cell_type": "code",
   "source": [
    "def energy_corner(image,x,y):\n",
    "    adjacent = [(i,j) for i in range(0, 4) for j in range(0, 4)]\n",
    "    return ising(image, x, y, adjacent)"
   ],
   "id": "29236dba1082827a",
   "outputs": [],
   "execution_count": 97
  },
  {
   "metadata": {},
   "cell_type": "markdown",
   "source": "Funkcja temperatury - wykorzystujemy jedynie eksponencjalną",
   "id": "44dfca408c24c"
  },
  {
   "metadata": {
    "ExecuteTime": {
     "end_time": "2025-04-12T23:56:52.907487Z",
     "start_time": "2025-04-12T23:56:52.903900Z"
    }
   },
   "cell_type": "code",
   "source": [
    "def img_temp_exp(T, alfa, k):\n",
    "    return T * alfa"
   ],
   "id": "f9eee9af077c355d",
   "outputs": [],
   "execution_count": 16
  },
  {
   "metadata": {},
   "cell_type": "markdown",
   "source": "Generujemy obraz 200x200 o $\\sigma = 0.4$",
   "id": "bfaff2e25fbe154d"
  },
  {
   "metadata": {
    "ExecuteTime": {
     "end_time": "2025-04-12T23:56:52.931834Z",
     "start_time": "2025-04-12T23:56:52.914288Z"
    }
   },
   "cell_type": "code",
   "source": "img = generate_image(200, 0.4)",
   "id": "7600f40e03a1baaa",
   "outputs": [],
   "execution_count": 17
  },
  {
   "metadata": {},
   "cell_type": "markdown",
   "source": "Wszystkie gify mają nazwę w postaci 'annealing[nr]_[name].gif'",
   "id": "6fc71a2982c9612d"
  },
  {
   "metadata": {
    "ExecuteTime": {
     "end_time": "2025-04-12T23:57:30.964014Z",
     "start_time": "2025-04-12T23:56:52.946611Z"
    }
   },
   "cell_type": "code",
   "source": [
    "_, _, _ = optimized_sim_annealing(\n",
    "    s=img,\n",
    "    max_iters=300000,\n",
    "    T=1,\n",
    "    alfa=0.9997,\n",
    "    swap_and_update_loss_func=img_swap_and_update_energy,\n",
    "    swap_func=img_swap_adjacent,\n",
    "    change_temp_func=img_temp_exp,\n",
    "    loss_func=energy_ising_16,\n",
    "    initial_loss_func=calculate_all_energy,\n",
    "    save=True,\n",
    "    filename=\"annealing1_adj_swap.gif\",\n",
    "    duration=40\n",
    ")"
   ],
   "id": "a6b5a1efb05e41ee",
   "outputs": [],
   "execution_count": 18
  },
  {
   "metadata": {
    "ExecuteTime": {
     "end_time": "2025-04-12T23:58:00.240094Z",
     "start_time": "2025-04-12T23:57:30.973546Z"
    }
   },
   "cell_type": "code",
   "source": [
    "_, _, _ = optimized_sim_annealing(\n",
    "    s=img,\n",
    "    max_iters=300000,\n",
    "    T=1,\n",
    "    alfa=0.9,\n",
    "    swap_and_update_loss_func=img_swap_and_update_energy,\n",
    "    swap_func=img_swap_random,\n",
    "    change_temp_func=img_temp_exp,\n",
    "    loss_func=energy_push_and_pull,\n",
    "    initial_loss_func=calculate_all_energy,\n",
    "    save=True,\n",
    "    filename=\"annealing2_quick_cooling.gif\",\n",
    "    duration=40\n",
    ")"
   ],
   "id": "4122210b55f21f6a",
   "outputs": [],
   "execution_count": 19
  },
  {
   "metadata": {
    "ExecuteTime": {
     "end_time": "2025-04-12T23:58:27.578074Z",
     "start_time": "2025-04-12T23:58:00.246896Z"
    }
   },
   "cell_type": "code",
   "source": [
    "_, _, _ = optimized_sim_annealing(\n",
    "    s=img,\n",
    "    max_iters=300000,\n",
    "    T=1,\n",
    "    alfa=0.99995,\n",
    "    swap_and_update_loss_func=img_swap_and_update_energy,\n",
    "    swap_func=img_swap_random,\n",
    "    change_temp_func=img_temp_exp,\n",
    "    loss_func=energy_push_and_pull,\n",
    "    initial_loss_func=calculate_all_energy,\n",
    "    save=True,\n",
    "    filename=\"annealing3_slow_cooling.gif\",\n",
    "    duration=40\n",
    ")"
   ],
   "id": "3bbdb221aa44a95d",
   "outputs": [],
   "execution_count": 20
  },
  {
   "metadata": {
    "ExecuteTime": {
     "end_time": "2025-04-12T23:58:48.615063Z",
     "start_time": "2025-04-12T23:58:27.585831Z"
    }
   },
   "cell_type": "code",
   "source": [
    "_, _, _ = optimized_sim_annealing(\n",
    "    s=img,\n",
    "    max_iters=300000,\n",
    "    T=1,\n",
    "    alfa=0.995,\n",
    "    swap_and_update_loss_func=img_swap_and_update_energy,\n",
    "    swap_func=img_swap_random,\n",
    "    change_temp_func=img_temp_exp,\n",
    "    loss_func=energy_horiz,\n",
    "    initial_loss_func=calculate_all_energy,\n",
    "    save=True,\n",
    "    filename=\"annealing4_lines.gif\",\n",
    "    duration=40\n",
    ")"
   ],
   "id": "d050f482d41be72a",
   "outputs": [],
   "execution_count": 21
  },
  {
   "metadata": {
    "ExecuteTime": {
     "end_time": "2025-04-13T00:26:46.557880Z",
     "start_time": "2025-04-13T00:26:19.115050Z"
    }
   },
   "cell_type": "code",
   "source": [
    "_, _, _ = optimized_sim_annealing(\n",
    "    s=img,\n",
    "    max_iters=300000,\n",
    "    T=1,\n",
    "    alfa=0.995,\n",
    "    swap_and_update_loss_func=img_swap_and_update_energy,\n",
    "    swap_func=img_swap_random,\n",
    "    change_temp_func=img_temp_exp,\n",
    "    loss_func=energy_cross,\n",
    "    initial_loss_func=calculate_all_energy,\n",
    "    save=True,\n",
    "    filename=\"annealing5_three_color.gif\",\n",
    "    duration=40\n",
    ")"
   ],
   "id": "593c6a08e25e2dc",
   "outputs": [],
   "execution_count": 39
  },
  {
   "metadata": {
    "ExecuteTime": {
     "end_time": "2025-04-13T01:02:28.490729Z",
     "start_time": "2025-04-13T01:02:02.443822Z"
    }
   },
   "cell_type": "code",
   "source": [
    "_, _, _ = optimized_sim_annealing(\n",
    "    s=img,\n",
    "    max_iters=300000,\n",
    "    T=1,\n",
    "    alfa=0.995,\n",
    "    swap_and_update_loss_func=img_swap_and_update_energy,\n",
    "    swap_func=img_swap_random,\n",
    "    change_temp_func=img_temp_exp,\n",
    "    loss_func=energy_vert_horiz,\n",
    "    initial_loss_func=calculate_all_energy,\n",
    "    save=True,\n",
    "    filename=\"annealing6_chain.gif\",\n",
    "    duration=40\n",
    ")"
   ],
   "id": "1515f59d7d2dbd9e",
   "outputs": [],
   "execution_count": 80
  },
  {
   "metadata": {
    "ExecuteTime": {
     "end_time": "2025-04-13T01:08:49.064630Z",
     "start_time": "2025-04-13T01:07:48.851581Z"
    }
   },
   "cell_type": "code",
   "source": [
    "_, _, _ = optimized_sim_annealing(\n",
    "    s=img,\n",
    "    max_iters=300000,\n",
    "    T=1,\n",
    "    alfa=0.995,\n",
    "    swap_and_update_loss_func=img_swap_and_update_energy,\n",
    "    swap_func=img_swap_random,\n",
    "    change_temp_func=img_temp_exp,\n",
    "    loss_func=energy_diag,\n",
    "    initial_loss_func=calculate_all_energy,\n",
    "    save=True,\n",
    "    filename=\"annealing7_diag.gif\",\n",
    "    duration=40\n",
    ")"
   ],
   "id": "12342fdb1b8306d0",
   "outputs": [],
   "execution_count": 84
  },
  {
   "metadata": {
    "ExecuteTime": {
     "end_time": "2025-04-13T01:23:07.231918Z",
     "start_time": "2025-04-13T01:22:09.835404Z"
    }
   },
   "cell_type": "code",
   "source": [
    "_, _, _ = optimized_sim_annealing(\n",
    "    s=img,\n",
    "    max_iters=600000,\n",
    "    T=1,\n",
    "    alfa=0.995,\n",
    "    swap_and_update_loss_func=img_swap_and_update_energy,\n",
    "    swap_func=img_swap_random,\n",
    "    change_temp_func=img_temp_exp,\n",
    "    loss_func=energy_corner,\n",
    "    initial_loss_func=calculate_all_energy,\n",
    "    save=True,\n",
    "    filename=\"annealing8_corner.gif\",\n",
    "    duration=40\n",
    ")"
   ],
   "id": "a7e1e51f26a21019",
   "outputs": [],
   "execution_count": 101
  },
  {
   "metadata": {},
   "cell_type": "code",
   "outputs": [],
   "execution_count": null,
   "source": "",
   "id": "773d9e42c2a6b02"
  }
 ],
 "metadata": {
  "kernelspec": {
   "display_name": "Python 3",
   "language": "python",
   "name": "python3"
  },
  "language_info": {
   "codemirror_mode": {
    "name": "ipython",
    "version": 2
   },
   "file_extension": ".py",
   "mimetype": "text/x-python",
   "name": "python",
   "nbconvert_exporter": "python",
   "pygments_lexer": "ipython2",
   "version": "2.7.6"
  }
 },
 "nbformat": 4,
 "nbformat_minor": 5
}
